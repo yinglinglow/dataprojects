{
 "cells": [
  {
   "cell_type": "code",
   "execution_count": null,
   "metadata": {
    "collapsed": true
   },
   "outputs": [],
   "source": [
    "import pandas as pd\n",
    "import numpy as np\n",
    "import matplotlib.pyplot as plt\n",
    "import seaborn as sns"
   ]
  },
  {
   "cell_type": "code",
   "execution_count": null,
   "metadata": {},
   "outputs": [],
   "source": [
    "#import data\n",
    "tfr_age = pd.read_csv('age-specific-fertility-rate.csv', na_values='na')\n",
    "\n",
    "#quick overview of data\n",
    "tfr_age.info()\n",
    "tfr_age.head()\n",
    "tfr_age.tail()\n",
    "\n",
    "#manipulate data into desired form\n",
    "tfr_age_clean = tfr_age.drop('level_1', axis=1)\n",
    "tfr_age_clean.columns = ['Year', 'Age', 'Total Fertility Rate'] #rename columns\n",
    "\n",
    "tfr_age_pivot = pd.pivot_table(tfr_age_clean, columns='Age', index='Year') #pivot table so age groups become the columns"
   ]
  },
  {
   "cell_type": "code",
   "execution_count": null,
   "metadata": {},
   "outputs": [],
   "source": [
    "#plot the data\n",
    "legend_list = ['15 - 19 years old', '20 - 24 years old', '25 - 29 years old', '30 - 34 years old', '35 - 39 years old', \n",
    "            '40 - 44 years old', '45 - 49 years old']\n",
    "\n",
    "plt.figure(figsize=(12,8))\n",
    "sns.set_style('whitegrid')\n",
    "sns.set_palette(sns.cubehelix_palette(7))\n",
    "\n",
    "plt.plot(tfr_age_pivot)\n",
    "plt.title('Total Fertility Rate over time')\n",
    "plt.xlabel('Years')\n",
    "plt.ylabel('Number of Live Births per Thousand females')\n",
    "plt.xlim(1960,2025)\n",
    "plt.legend(legend_list)\n",
    "\n",
    "#annotate last points of each line graph as label\n",
    "lastrow = tfr_age_pivot.iloc[-1]\n",
    "line = 0\n",
    "for lastpoint in lastrow:\n",
    "    if line == 6:\n",
    "        plt.annotate(legend_list[line], xy=(2017, -6))\n",
    "    else:\n",
    "        plt.annotate(legend_list[line], xy=(2017, lastpoint))\n",
    "    line += 1\n",
    "\n",
    "plt.savefig('TFR.png', bbox_inches='tight')"
   ]
  },
  {
   "cell_type": "code",
   "execution_count": null,
   "metadata": {},
   "outputs": [],
   "source": [
    "crude_birth_rate = pd.read_csv('crude-birth-rate.csv', na_values='na')\n",
    "crude_birth_rate.head()"
   ]
  },
  {
   "cell_type": "code",
   "execution_count": null,
   "metadata": {},
   "outputs": [],
   "source": [
    "live_births = pd.read_csv('live-births.csv', na_values='na')\n",
    "live_births.head()"
   ]
  },
  {
   "cell_type": "code",
   "execution_count": null,
   "metadata": {},
   "outputs": [],
   "source": [
    "totalfertilityrateandreproductionrate = pd.read_csv('total-fertility-rate-and-reproduction-rate.csv', na_values='na')\n",
    "totalfertilityrateandreproductionrate.head()"
   ]
  },
  {
   "cell_type": "code",
   "execution_count": null,
   "metadata": {},
   "outputs": [],
   "source": [
    "totalfertilityratebyethnicgroup = pd.read_csv('total-fertility-rate-by-ethnic-group.csv', na_values='na')\n",
    "totalfertilityratebyethnicgroup.head()"
   ]
  }
 ],
 "metadata": {
  "kernelspec": {
   "display_name": "Python 3",
   "language": "python",
   "name": "python3"
  },
  "language_info": {
   "codemirror_mode": {
    "name": "ipython",
    "version": 3
   },
   "file_extension": ".py",
   "mimetype": "text/x-python",
   "name": "python",
   "nbconvert_exporter": "python",
   "pygments_lexer": "ipython3",
   "version": "3.6.2"
  }
 },
 "nbformat": 4,
 "nbformat_minor": 2
}
